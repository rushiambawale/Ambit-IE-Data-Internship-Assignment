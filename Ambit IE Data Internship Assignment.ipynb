{
 "cells": [
  {
   "cell_type": "markdown",
   "id": "0ee3be8c",
   "metadata": {},
   "source": [
    "# Ambit IE Data Internship Assignment"
   ]
  },
  {
   "cell_type": "code",
   "execution_count": null,
   "id": "c697b75f",
   "metadata": {},
   "outputs": [],
   "source": [
    "pip install streamlit requests beautifulsoup4 pandas numpy\n"
   ]
  },
  {
   "cell_type": "markdown",
   "id": "4053eddf",
   "metadata": {},
   "source": [
    "# Web Scraping"
   ]
  },
  {
   "cell_type": "code",
   "execution_count": null,
   "id": "4f7fe7fd",
   "metadata": {},
   "outputs": [],
   "source": [
    "import requests\n",
    "from bs4 import BeautifulSoup\n",
    "\n",
    "def get_company_data(company_code):\n",
    "    # Initial URL for consolidated data\n",
    "    url = f\"https://www.screener.in/company/{company_code}/consolidated/\"\n",
    "    response = requests.get(url)\n",
    "    \n",
    "    # If consolidated data is not available, fallback to standalone data\n",
    "    if response.status_code != 200:\n",
    "        url = f\"https://www.screener.in/company/{company_code}/\"\n",
    "        response = requests.get(url)\n",
    "    \n",
    "    # Parse the HTML content\n",
    "    soup = BeautifulSoup(response.content, 'html.parser')\n",
    "    \n",
    "    # Extracting PE ratio\n",
    "    pe_element = soup.find('li', text=lambda x: x and 'PE' in x)\n",
    "    current_pe = float(pe_element.text.split()[1]) if pe_element else None\n",
    "    \n",
    "    # Extracting RoCE (Return on Capital Employed)\n",
    "    roce_element = soup.find('li', text=lambda x: x and 'RoCE' in x)\n",
    "    roce_value = float(roce_element.text.split()[1][:-1]) if roce_element else None\n",
    "    \n",
    "    # Extracting growth data for different time periods\n",
    "    growth_data = {}\n",
    "    for period in ['TTM', '3Years', '5Years', '10Years']:\n",
    "        growth_element = soup.find('li', text=lambda x: x and f'{period}' in x)\n",
    "        growth_data[period] = float(growth_element.text.split()[-1][:-1]) if growth_element else None\n",
    "    \n",
    "    return current_pe, roce_value, growth_data\n"
   ]
  },
  {
   "cell_type": "markdown",
   "id": "c2d11253",
   "metadata": {},
   "source": [
    "# DCF Model Calculation"
   ]
  },
  {
   "cell_type": "code",
   "execution_count": null,
   "id": "8ab21fad",
   "metadata": {},
   "outputs": [],
   "source": [
    "import numpy as np\n",
    "\n",
    "def calculate_intrinsic_pe(cost_of_capital, roce, growth_rate, high_growth_years, fade_years, terminal_growth_rate, tax_rate=0.25):\n",
    "    cash_flows = []\n",
    "    for year in range(1, high_growth_years + fade_years + 1):\n",
    "        if year <= high_growth_years:\n",
    "            growth = growth_rate\n",
    "        else:\n",
    "            fade_factor = (1 - ((year - high_growth_years) / fade_years))\n",
    "            growth = terminal_growth_rate + (growth_rate - terminal_growth_rate) * fade_factor\n",
    "        roce_cash_flow = roce * (1 - tax_rate)  # Adjusted for tax\n",
    "        cash_flows.append(roce_cash_flow * (1 + growth))\n",
    "    \n",
    "    # Discount cash flows to present value\n",
    "    discounted_cf = [cf / ((1 + cost_of_capital) ** i) for i, cf in enumerate(cash_flows, start=1)]\n",
    "    intrinsic_value = sum(discounted_cf)\n",
    "    \n",
    "    return intrinsic_value  # This is the intrinsic PE derived from DCF calculation\n"
   ]
  },
  {
   "cell_type": "markdown",
   "id": "b1e27f9c",
   "metadata": {},
   "source": [
    "# Streamlit Web "
   ]
  },
  {
   "cell_type": "code",
   "execution_count": null,
   "id": "ec164b1f",
   "metadata": {},
   "outputs": [],
   "source": [
    "pip install --upgrade streamlit\n"
   ]
  },
  {
   "cell_type": "code",
   "execution_count": null,
   "id": "bfec90c9",
   "metadata": {},
   "outputs": [],
   "source": [
    "import warnings\n",
    "warnings.filterwarnings(\"ignore\", message=\"missing ScriptRunContext\")\n"
   ]
  },
  {
   "cell_type": "code",
   "execution_count": null,
   "id": "388515ae",
   "metadata": {},
   "outputs": [],
   "source": [
    "import streamlit as st\n",
    "import pandas as pd\n",
    "import requests\n",
    "from bs4 import BeautifulSoup\n",
    "\n",
    "st.title(\"DCF Valuation Tool\")\n",
    "\n",
    "# User input for company symbol and financial parameters\n",
    "symbol = st.text_input(\"Enter NSE/BSE Symbol\", value=\"NESTLEIND\")\n",
    "cost_of_capital = st.slider(\"Cost of Capital (%)\", 5.0, 15.0, 10.0) / 100\n",
    "roce = st.slider(\"Return on Capital Employed (RoCE) (%)\", 10.0, 30.0, 20.0) / 100\n",
    "growth_rate = st.slider(\"High Growth Rate (%)\", 5.0, 20.0, 10.0) / 100\n",
    "high_growth_years = st.slider(\"High Growth Period (Years)\", 5, 20, 15)\n",
    "fade_years = st.slider(\"Fade Period (Years)\", 5, 20, 15)\n",
    "terminal_growth_rate = st.slider(\"Terminal Growth Rate (%)\", 1.0, 5.0, 2.0) / 100\n",
    "\n",
    "# Function to fetch data from screener.in\n",
    "def fetch_company_data(symbol):\n",
    "    url = f\"https://www.screener.in/company/{symbol}/consolidated/\"\n",
    "    response = requests.get(url)\n",
    "    if response.status_code != 200:\n",
    "        url = f\"https://www.screener.in/company/{symbol}/\"\n",
    "        response = requests.get(url)\n",
    "    \n",
    "    soup = BeautifulSoup(response.content, 'html.parser')\n",
    "    \n",
    "    # Extract PE ratio\n",
    "    try:\n",
    "        pe_element = soup.find('li', string=lambda text: text and 'PE' in text)\n",
    "        current_pe = float(pe_element.text.split()[1]) if pe_element else None\n",
    "    except:\n",
    "        current_pe = None\n",
    "    \n",
    "    # Extract RoCE\n",
    "    try:\n",
    "        roce_element = soup.find('li', string=lambda text: text and 'RoCE' in text)\n",
    "        roce_value = float(roce_element.text.split()[1].strip('%')) if roce_element else None\n",
    "    except:\n",
    "        roce_value = None\n",
    "    \n",
    "    # Extract growth data\n",
    "    growth_data = {}\n",
    "    try:\n",
    "        for period in ['TTM', '3Years', '5Years', '10Years']:\n",
    "            growth_element = soup.find('li', string=lambda text: text and period in text)\n",
    "            growth_data[period] = float(growth_element.text.split()[-1].strip('%')) if growth_element else None\n",
    "    except:\n",
    "        growth_data = None\n",
    "    \n",
    "    # Extract market cap and net profit for FY23\n",
    "    try:\n",
    "        market_cap_element = soup.find('li', string=lambda text: text and 'Market Cap' in text)\n",
    "        market_cap = float(market_cap_element.text.split()[2].replace(',', '')) * 1e7 if market_cap_element else None\n",
    "\n",
    "        net_profit_element = soup.find('li', string=lambda text: text and 'Net Profit' in text)\n",
    "        net_profit = float(net_profit_element.text.split()[-2].replace(',', '')) * 1e7 if net_profit_element else None\n",
    "\n",
    "        fy23_pe = market_cap / net_profit if market_cap and net_profit else None\n",
    "    except:\n",
    "        fy23_pe = None\n",
    "\n",
    "    return current_pe, roce_value, growth_data, fy23_pe\n",
    "\n",
    "# Function to calculate intrinsic PE\n",
    "def calculate_intrinsic_pe(k_cost, roce, g_high, fade_years, fade_period, g_terminal):\n",
    "    years = fade_years + fade_period\n",
    "    pe_values = []\n",
    "    \n",
    "    for year in range(fade_years):\n",
    "        growth_rate = g_high - (g_high - g_terminal) * year / fade_years\n",
    "        roce_effect = roce * ((1 - g_terminal) / (k_cost - g_terminal))\n",
    "        intrinsic_pe_year = roce_effect / ((k_cost - growth_rate) + 1e-8)\n",
    "        pe_values.append(intrinsic_pe_year)\n",
    "    \n",
    "    fade_pe = sum(pe_values) / len(pe_values)\n",
    "    return fade_pe\n",
    "\n",
    "# Fetch data and perform calculations\n",
    "if st.button(\"Fetch Data\"):\n",
    "    current_pe, roce_value, growth_data, fy23_pe = fetch_company_data(symbol)\n",
    "    \n",
    "    if current_pe and roce_value and fy23_pe:\n",
    "        st.write(f\"Current PE: {current_pe}\")\n",
    "        st.write(f\"5-yr median RoCE: {roce_value}\")\n",
    "        st.write(f\"Growth Data: {growth_data}\")\n",
    "        st.write(f\"FY23 PE: {fy23_pe}\")\n",
    "        \n",
    "        intrinsic_pe = calculate_intrinsic_pe(cost_of_capital, roce_value, growth_rate, high_growth_years, fade_years, terminal_growth_rate)\n",
    "        st.write(f\"Calculated Intrinsic PE: {intrinsic_pe:.2f}\")\n",
    "        \n",
    "        degree_of_overvaluation = ((min(current_pe, fy23_pe) / intrinsic_pe) - 1) * 100\n",
    "        st.write(f\"Degree of Overvaluation: {degree_of_overvaluation:.2f}%\")\n",
    "    else:\n",
    "        st.write(\"Unable to fetch complete data. Please check the input symbol.\")\n"
   ]
  },
  {
   "cell_type": "code",
   "execution_count": null,
   "id": "bc6d44d8",
   "metadata": {},
   "outputs": [],
   "source": []
  }
 ],
 "metadata": {
  "kernelspec": {
   "display_name": "Python 3 (ipykernel)",
   "language": "python",
   "name": "python3"
  },
  "language_info": {
   "codemirror_mode": {
    "name": "ipython",
    "version": 3
   },
   "file_extension": ".py",
   "mimetype": "text/x-python",
   "name": "python",
   "nbconvert_exporter": "python",
   "pygments_lexer": "ipython3",
   "version": "3.10.9"
  }
 },
 "nbformat": 4,
 "nbformat_minor": 5
}
